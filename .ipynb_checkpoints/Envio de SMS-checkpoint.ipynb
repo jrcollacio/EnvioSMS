{
 "cells": [
  {
   "cell_type": "markdown",
   "metadata": {},
   "source": [
    "#### 1. Vamos criar um login no Twilio\n",
    "\n",
    "https://www.twilio.com/docs/libraries/python"
   ]
  },
  {
   "cell_type": "markdown",
   "metadata": {},
   "source": [
    "#### 2. Depois do Login, vamos pegar 3 informações:\n",
    "\n",
    "- ID da Conta\n",
    "- Token\n",
    "- Número de Envio"
   ]
  },
  {
   "cell_type": "markdown",
   "metadata": {},
   "source": [
    "#### 3. Agora vamos validar um número porque no Twilio, enviar SMS para um número válido é de graça"
   ]
  },
  {
   "cell_type": "markdown",
   "metadata": {},
   "source": [
    "#### 4. Agora podemos fazer o nosso código de acordo com as orientações do Twilio"
   ]
  },
  {
   "cell_type": "code",
   "execution_count": 1,
   "metadata": {},
   "outputs": [
    {
     "name": "stdout",
     "output_type": "stream",
     "text": [
      "SM25b9ae90d86daf8103b751285beb3ceb\n"
     ]
    }
   ],
   "source": [
    "from twilio.rest import Client\n",
    "\n",
    "account_sid = 'AC30173e6f2f658497a58ee801be39f1c2'\n",
    "token = '42a9b63b7d5c12fb75b563dc741923ef'\n",
    "\n",
    "client = Client(account_sid, token)\n",
    "\n",
    "remetente = '+19894558959'\n",
    "destino = '+551199999-9999'\n",
    "\n",
    "\n",
    "message = client.messages.create(\n",
    "    to=destino, \n",
    "    from_=remetente,\n",
    "    body=\"Teste de envio de mensagem pelo Python!\")\n",
    "\n",
    "print(message.sid)"
   ]
  }
 ],
 "metadata": {
  "kernelspec": {
   "display_name": "Python 3 (ipykernel)",
   "language": "python",
   "name": "python3"
  },
  "language_info": {
   "codemirror_mode": {
    "name": "ipython",
    "version": 3
   },
   "file_extension": ".py",
   "mimetype": "text/x-python",
   "name": "python",
   "nbconvert_exporter": "python",
   "pygments_lexer": "ipython3",
   "version": "3.9.12"
  }
 },
 "nbformat": 4,
 "nbformat_minor": 4
}
